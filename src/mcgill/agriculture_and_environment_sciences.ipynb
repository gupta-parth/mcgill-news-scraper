{
 "cells": [
  {
   "cell_type": "markdown",
   "metadata": {},
   "source": []
  },
  {
   "cell_type": "code",
   "execution_count": 2,
   "metadata": {},
   "outputs": [],
   "source": [
    "import pandas as pd\n",
    "from bs4 import BeautifulSoup\n",
    "import requests\n",
    "from csv import writer\n",
    "import re"
   ]
  },
  {
   "cell_type": "code",
   "execution_count": 30,
   "metadata": {},
   "outputs": [
    {
     "name": "stdout",
     "output_type": "stream",
     "text": [
      "0\n",
      "1\n",
      "2\n",
      "3\n",
      "4\n",
      "5\n",
      "6\n",
      "7\n",
      "8\n",
      "9\n",
      "10\n",
      "11\n"
     ]
    }
   ],
   "source": [
    "headers = {'User-Agent': 'Mozilla/5.0 (Macintosh; Intel Mac OS X 10_15_7) AppleWebKit/537.36 (KHTML, like Gecko) Chrome/102.0.0.0 Safari/537.36'}\n",
    "\n",
    "with open(\"/Users/parth/mcgill-news-scraper/professors/agriculture_and_environment_profs.csv\", \"w\", encoding=\"utf-8\") as f:\n",
    "  out = writer(f)\n",
    "  header = [\"Name\", \"Department\", \"Faculty\"]\n",
    "  out.writerow(header)\n",
    "  for i in range(0, 12):\n",
    "    print(i)\n",
    "    url = \"https://www.mcgill.ca/macdonald/people?page=\" + str(i)\n",
    "    page = requests.get(url, headers=headers)\n",
    "    soup = BeautifulSoup(page.content, \"html.parser\")\n",
    "    items = soup.find_all(\"div\", class_=re.compile(\"profiles-glossary-entry\"))\n",
    "\n",
    "    for item in items:\n",
    "        try:\n",
    "            name = item.find(\"h2\", class_=\"mcgill-profiles-display-name\").text\n",
    "        except:\n",
    "            name=\"\"\n",
    "            print(i)\n",
    "            print(item)\n",
    "\n",
    "        try:\n",
    "            department = item.find(\"div\", class_=re.compile(\"mprofile-department\"))\n",
    "            d = department.find(\"span\", class_=\"field-content\").text\n",
    "        except:\n",
    "            d=\"\"\n",
    "            print(i)\n",
    "            print(item)\n",
    "      \n",
    "\n",
    "        info = [name, d, \"Faculty of Agriculture and Environmental Sciences\"]\n",
    "        out.writerow(info)"
   ]
  },
  {
   "cell_type": "code",
   "execution_count": 39,
   "metadata": {},
   "outputs": [
    {
     "data": {
      "text/html": [
       "<div>\n",
       "<style scoped>\n",
       "    .dataframe tbody tr th:only-of-type {\n",
       "        vertical-align: middle;\n",
       "    }\n",
       "\n",
       "    .dataframe tbody tr th {\n",
       "        vertical-align: top;\n",
       "    }\n",
       "\n",
       "    .dataframe thead th {\n",
       "        text-align: right;\n",
       "    }\n",
       "</style>\n",
       "<table border=\"1\" class=\"dataframe\">\n",
       "  <thead>\n",
       "    <tr style=\"text-align: right;\">\n",
       "      <th></th>\n",
       "      <th>Name</th>\n",
       "      <th>Department</th>\n",
       "      <th>Faculty</th>\n",
       "    </tr>\n",
       "  </thead>\n",
       "  <tbody>\n",
       "    <tr>\n",
       "      <th>0</th>\n",
       "      <td>Viacheslav Adamchuk</td>\n",
       "      <td>Bioresource Engineering</td>\n",
       "      <td>Faculty of Agriculture and Environmental Sciences</td>\n",
       "    </tr>\n",
       "    <tr>\n",
       "      <th>1</th>\n",
       "      <td>Jan Franklin Adamowski</td>\n",
       "      <td>Bioresource Engineering</td>\n",
       "      <td>Faculty of Agriculture and Environmental Sciences</td>\n",
       "    </tr>\n",
       "    <tr>\n",
       "      <th>2</th>\n",
       "      <td>Luis Agellon</td>\n",
       "      <td>Human Nutrition, School of</td>\n",
       "      <td>Faculty of Agriculture and Environmental Sciences</td>\n",
       "    </tr>\n",
       "  </tbody>\n",
       "</table>\n",
       "</div>"
      ],
      "text/plain": [
       "                     Name                  Department  \\\n",
       "0     Viacheslav Adamchuk     Bioresource Engineering   \n",
       "1  Jan Franklin Adamowski     Bioresource Engineering   \n",
       "2            Luis Agellon  Human Nutrition, School of   \n",
       "\n",
       "                                             Faculty  \n",
       "0  Faculty of Agriculture and Environmental Sciences  \n",
       "1  Faculty of Agriculture and Environmental Sciences  \n",
       "2  Faculty of Agriculture and Environmental Sciences  "
      ]
     },
     "execution_count": 39,
     "metadata": {},
     "output_type": "execute_result"
    }
   ],
   "source": [
    "df_agri = pd.read_csv(\"/Users/parth/mcgill-news-scraper/professors/agriculture_and_environment_profs.csv\")\n",
    "df_agri.head(3)\n"
   ]
  },
  {
   "cell_type": "code",
   "execution_count": 40,
   "metadata": {},
   "outputs": [
    {
     "data": {
      "text/html": [
       "<div>\n",
       "<style scoped>\n",
       "    .dataframe tbody tr th:only-of-type {\n",
       "        vertical-align: middle;\n",
       "    }\n",
       "\n",
       "    .dataframe tbody tr th {\n",
       "        vertical-align: top;\n",
       "    }\n",
       "\n",
       "    .dataframe thead th {\n",
       "        text-align: right;\n",
       "    }\n",
       "</style>\n",
       "<table border=\"1\" class=\"dataframe\">\n",
       "  <thead>\n",
       "    <tr style=\"text-align: right;\">\n",
       "      <th></th>\n",
       "      <th>Name</th>\n",
       "      <th>Department</th>\n",
       "      <th>Faculty</th>\n",
       "    </tr>\n",
       "  </thead>\n",
       "  <tbody>\n",
       "    <tr>\n",
       "      <th>0</th>\n",
       "      <td>Annmarie Adams</td>\n",
       "      <td>The Peter Guo-hua Fu School of Architecture</td>\n",
       "      <td>Faculty of Engineering</td>\n",
       "    </tr>\n",
       "    <tr>\n",
       "      <th>1</th>\n",
       "      <td>Marco Amabili</td>\n",
       "      <td>Department of Mechanical Engineering</td>\n",
       "      <td>Faculty of Engineering</td>\n",
       "    </tr>\n",
       "    <tr>\n",
       "      <th>2</th>\n",
       "      <td>Jorge Angeles</td>\n",
       "      <td>Department of Mechanical Engineering</td>\n",
       "      <td>Faculty of Engineering</td>\n",
       "    </tr>\n",
       "  </tbody>\n",
       "</table>\n",
       "</div>"
      ],
      "text/plain": [
       "             Name                                   Department  \\\n",
       "0  Annmarie Adams  The Peter Guo-hua Fu School of Architecture   \n",
       "1   Marco Amabili         Department of Mechanical Engineering   \n",
       "2   Jorge Angeles         Department of Mechanical Engineering   \n",
       "\n",
       "                  Faculty  \n",
       "0  Faculty of Engineering  \n",
       "1  Faculty of Engineering  \n",
       "2  Faculty of Engineering  "
      ]
     },
     "execution_count": 40,
     "metadata": {},
     "output_type": "execute_result"
    }
   ],
   "source": [
    "df_eng = pd.read_csv(\"/Users/parth/mcgill-news-scraper/professors/eng_profs.csv\")\n",
    "df_eng.head(3)"
   ]
  },
  {
   "cell_type": "code",
   "execution_count": 41,
   "metadata": {},
   "outputs": [
    {
     "data": {
      "text/plain": [
       "<bound method NDFrame.head of                      Name                                         Department  \\\n",
       "0          Annmarie Adams        The Peter Guo-hua Fu School of Architecture   \n",
       "1           Marco Amabili               Department of Mechanical Engineering   \n",
       "2           Jorge Angeles               Department of Mechanical Engineering   \n",
       "3               Tal Arbel  Department of Electrical and Computer Engineering   \n",
       "4    Madhav Govind Badami                           School of Urban Planning   \n",
       "..                    ...                                                ...   \n",
       "106           Linda Wykes                         Human Nutrition, School of   \n",
       "107    Jianguo (Jeff) Xia         Animal Science, Parasitology, Institute of   \n",
       "108     Varoujan Yaylayan            Food Science and Agricultural Chemistry   \n",
       "109    Alexander Yitbarek                                     Animal Science   \n",
       "110              Xin Zhao                                     Animal Science   \n",
       "\n",
       "                                               Faculty  \n",
       "0                               Faculty of Engineering  \n",
       "1                               Faculty of Engineering  \n",
       "2                               Faculty of Engineering  \n",
       "3                               Faculty of Engineering  \n",
       "4                               Faculty of Engineering  \n",
       "..                                                 ...  \n",
       "106  Faculty of Agriculture and Environmental Sciences  \n",
       "107  Faculty of Agriculture and Environmental Sciences  \n",
       "108  Faculty of Agriculture and Environmental Sciences  \n",
       "109  Faculty of Agriculture and Environmental Sciences  \n",
       "110  Faculty of Agriculture and Environmental Sciences  \n",
       "\n",
       "[392 rows x 3 columns]>"
      ]
     },
     "execution_count": 41,
     "metadata": {},
     "output_type": "execute_result"
    }
   ],
   "source": [
    "res = pd.concat([df_eng, df_agri])\n",
    "res.head"
   ]
  }
 ],
 "metadata": {
  "kernelspec": {
   "display_name": "Python 3.9.7 ('base')",
   "language": "python",
   "name": "python3"
  },
  "language_info": {
   "codemirror_mode": {
    "name": "ipython",
    "version": 3
   },
   "file_extension": ".py",
   "mimetype": "text/x-python",
   "name": "python",
   "nbconvert_exporter": "python",
   "pygments_lexer": "ipython3",
   "version": "3.9.7"
  },
  "orig_nbformat": 4,
  "vscode": {
   "interpreter": {
    "hash": "b562613f97b516b6cd6dc22156e9fe410dfb52987a7daa70dad21748949db864"
   }
  }
 },
 "nbformat": 4,
 "nbformat_minor": 2
}
