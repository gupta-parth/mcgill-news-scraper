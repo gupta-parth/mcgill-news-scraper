{
 "cells": [
  {
   "cell_type": "markdown",
   "metadata": {},
   "source": []
  },
  {
   "cell_type": "code",
   "execution_count": 1,
   "metadata": {},
   "outputs": [],
   "source": [
    "import pandas as pd\n",
    "from bs4 import BeautifulSoup\n",
    "import requests\n",
    "from csv import writer\n",
    "import re"
   ]
  },
  {
   "cell_type": "code",
   "execution_count": 2,
   "metadata": {},
   "outputs": [
    {
     "name": "stdout",
     "output_type": "stream",
     "text": [
      "0\n",
      "1\n",
      "2\n",
      "3\n",
      "4\n",
      "5\n",
      "6\n",
      "7\n",
      "8\n",
      "9\n",
      "10\n",
      "11\n",
      "12\n",
      "13\n",
      "14\n"
     ]
    }
   ],
   "source": [
    "headers = {'User-Agent': 'Mozilla/5.0 (Macintosh; Intel Mac OS X 10_15_7) AppleWebKit/537.36 (KHTML, like Gecko) Chrome/102.0.0.0 Safari/537.36'}\n",
    "\n",
    "with open(\"/Users/parth/mcgill-news-scraper/professors/desautels/profs.csv\", \"w\", encoding=\"utf-8\") as f:\n",
    "  out = writer(f)\n",
    "  header = [\"Name\", \"Department\", \"Faculty\"]\n",
    "  out.writerow(header)\n",
    "  for i in range(0, 15):\n",
    "    print(i)\n",
    "    url = \"https://www.mcgill.ca/desautels/people/faculty-leadership?page=\" + str(i)\n",
    "    page = requests.get(url, headers=headers)\n",
    "    soup = BeautifulSoup(page.content, \"html.parser\")\n",
    "    items = soup.find_all(\"div\", class_=re.compile(\"profiles-glossary-entry\"))\n",
    "\n",
    "    for item in items:\n",
    "        try:\n",
    "            name = item.find(\"h2\", class_=\"mcgill-profiles-display-name\").text\n",
    "        except:\n",
    "            name=\"\"\n",
    "            print(i)\n",
    "            print(item)\n",
    "      \n",
    "\n",
    "        info = [name, \"Desautels Faculty of Management\", \"Faculty of Management\"]\n",
    "        out.writerow(info)"
   ]
  }
 ],
 "metadata": {
  "kernelspec": {
   "display_name": "Python 3.9.7 ('base')",
   "language": "python",
   "name": "python3"
  },
  "language_info": {
   "codemirror_mode": {
    "name": "ipython",
    "version": 3
   },
   "file_extension": ".py",
   "mimetype": "text/x-python",
   "name": "python",
   "nbconvert_exporter": "python",
   "pygments_lexer": "ipython3",
   "version": "3.9.7"
  },
  "orig_nbformat": 4,
  "vscode": {
   "interpreter": {
    "hash": "b562613f97b516b6cd6dc22156e9fe410dfb52987a7daa70dad21748949db864"
   }
  }
 },
 "nbformat": 4,
 "nbformat_minor": 2
}
