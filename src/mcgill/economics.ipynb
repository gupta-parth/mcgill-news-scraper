{
 "cells": [
  {
   "cell_type": "code",
   "execution_count": 6,
   "metadata": {},
   "outputs": [],
   "source": [
    "import pandas as pd\n",
    "from bs4 import BeautifulSoup\n",
    "import requests\n",
    "from csv import writer\n",
    "import re"
   ]
  },
  {
   "cell_type": "code",
   "execution_count": 7,
   "metadata": {},
   "outputs": [
    {
     "name": "stdout",
     "output_type": "stream",
     "text": [
      "Arash Abizadeh\n",
      "Yann Allard-Tremblay\n",
      "Leonardo Baccini\n",
      "Manuel Balan\n",
      "Daniel Béland\n",
      "Éric Bélanger\n",
      "Elissa Berwick\n",
      "Megan Bradley\n",
      "Mark R Brawley\n",
      "Rex J. Brynen\n",
      "Daniel Douek\n",
      "Aaron Erlich\n",
      "Terri E. Givens\n",
      "Kelly Gordon\n",
      "Tania Islas Weinstein\n",
      "Juliet Johnson\n",
      "Erik Martinez Kuhonta\n",
      "Jacob Levy\n",
      "Catherine Lu\n",
      "Christopher P Manfredi\n",
      "Hudson Meadwell\n",
      "Khalid Medani\n",
      "Victor Muniz-Fraticelli\n",
      "Fernando G. Nuñez-Mietz\n",
      "T.V. Paul\n",
      "Krzysztof Pelc\n",
      "Maria Popova\n",
      "Vincent Pouliot\n",
      "William Clare Roberts\n",
      "Filippo Sabetti\n",
      "Christa Scholtz\n",
      "Dietlind Stolle\n",
      "Narendra Subramanian\n",
      "Brendan Szendro\n",
      "Debra Thompson\n",
      "Juan Wang\n",
      "Jennifer Welsh\n",
      "Yves Winter\n"
     ]
    }
   ],
   "source": [
    "headers = {'User-Agent': 'Mozilla/5.0 (Macintosh; Intel Mac OS X 10_15_7) AppleWebKit/537.36 (KHTML, like Gecko) Chrome/102.0.0.0 Safari/537.36'}\n",
    "\n",
    "with open(\"/Users/parth/mcgill-news-scraper/professors/arts/poli_sci_profs.csv\", \"w\", encoding=\"utf-8\") as f:\n",
    "    out = writer(f)\n",
    "    header = [\"Name\", \"Department\", \"Faculty\"]\n",
    "    out.writerow(header)\n",
    "    url = \"https://www.mcgill.ca/politicalscience/people\"\n",
    "    page = requests.get(url, headers=headers)\n",
    "    soup = BeautifulSoup(page.content, \"html.parser\")\n",
    "    items = soup.find_all(\"div\", class_=re.compile(\"profiles-glossary-entry\"))\n",
    "\n",
    "    for item in items:\n",
    "        try:\n",
    "            name = item.find(\"h2\", class_=\"mcgill-profiles-display-name\").text\n",
    "        except:\n",
    "            name=\"\"\n",
    "            print(i)\n",
    "        print(name)\n",
    "\n",
    "        \n",
    "\n",
    "        info = [name, \"Department of Political Science\", \"Faculty of Arts\"]\n",
    "        out.writerow(info)"
   ]
  }
 ],
 "metadata": {
  "kernelspec": {
   "display_name": "Python 3.9.7 ('base')",
   "language": "python",
   "name": "python3"
  },
  "language_info": {
   "codemirror_mode": {
    "name": "ipython",
    "version": 3
   },
   "file_extension": ".py",
   "mimetype": "text/x-python",
   "name": "python",
   "nbconvert_exporter": "python",
   "pygments_lexer": "ipython3",
   "version": "3.9.7"
  },
  "orig_nbformat": 4,
  "vscode": {
   "interpreter": {
    "hash": "b562613f97b516b6cd6dc22156e9fe410dfb52987a7daa70dad21748949db864"
   }
  }
 },
 "nbformat": 4,
 "nbformat_minor": 2
}
