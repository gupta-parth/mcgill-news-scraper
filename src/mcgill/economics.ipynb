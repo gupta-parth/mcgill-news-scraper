{
 "cells": [
  {
   "cell_type": "code",
   "execution_count": 1,
   "metadata": {},
   "outputs": [],
   "source": [
    "import pandas as pd\n",
    "from bs4 import BeautifulSoup\n",
    "import requests\n",
    "from csv import writer\n",
    "import re"
   ]
  },
  {
   "cell_type": "code",
   "execution_count": 4,
   "metadata": {},
   "outputs": [
    {
     "name": "stdout",
     "output_type": "stream",
     "text": [
      "Dr. Ross Andersen\n",
      "Dr. Gordon Bloom\n",
      "Dr. Tyler Churchward-Venne\n",
      "Dr. Julie Côté\n",
      "Mr. Michael Creamer\n",
      "Dr. Lindsay Duncan\n",
      "Dr. Benoit Gentil\n",
      "Dr. Jenna Gibbs\n",
      "Dr. William James Harvey\n",
      "Dr. Dennis Jensen\n",
      "Dr. Jordan Koch\n",
      "Mrs. Jessica Mocella\n",
      "Dr. Caroline Paquette\n",
      "Dr. Dilson Rassier\n",
      "Dr. Celena Scheede-Bergdahl\n",
      "Dr. Shane Sweet\n",
      "Dr. Charlotte Usselman\n"
     ]
    }
   ],
   "source": [
    "headers = {'User-Agent': 'Mozilla/5.0 (Macintosh; Intel Mac OS X 10_15_7) AppleWebKit/537.36 (KHTML, like Gecko) Chrome/102.0.0.0 Safari/537.36'}\n",
    "\n",
    "with open(\"/Users/parth/mcgill-news-scraper/professors/education/kinesiology_profs.csv\", \"w\", encoding=\"utf-8\") as f:\n",
    "    out = writer(f)\n",
    "    header = [\"Name\", \"Department\", \"Faculty\"]\n",
    "    out.writerow(header)\n",
    "    url = \"https://www.mcgill.ca/edu-kpe/people\"\n",
    "    page = requests.get(url, headers=headers)\n",
    "    soup = BeautifulSoup(page.content, \"html.parser\")\n",
    "    items = soup.find_all(\"div\", class_=re.compile(\"profiles-glossary-entry\"))\n",
    "\n",
    "    for item in items:\n",
    "        try:\n",
    "            name = item.find(\"h2\", class_=\"mcgill-profiles-display-name\").text\n",
    "        except:\n",
    "            name=\"\"\n",
    "            print(i)\n",
    "        print(name)\n",
    "\n",
    "        \n",
    "\n",
    "        info = [name, \"Department of Kinesiology and Physical Education\", \"Faculty of Education\"]\n",
    "        out.writerow(info)"
   ]
  }
 ],
 "metadata": {
  "kernelspec": {
   "display_name": "Python 3.9.7 ('base')",
   "language": "python",
   "name": "python3"
  },
  "language_info": {
   "codemirror_mode": {
    "name": "ipython",
    "version": 3
   },
   "file_extension": ".py",
   "mimetype": "text/x-python",
   "name": "python",
   "nbconvert_exporter": "python",
   "pygments_lexer": "ipython3",
   "version": "3.9.7"
  },
  "orig_nbformat": 4,
  "vscode": {
   "interpreter": {
    "hash": "b562613f97b516b6cd6dc22156e9fe410dfb52987a7daa70dad21748949db864"
   }
  }
 },
 "nbformat": 4,
 "nbformat_minor": 2
}
