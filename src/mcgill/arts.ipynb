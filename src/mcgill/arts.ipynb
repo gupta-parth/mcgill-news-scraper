{
 "cells": [
  {
   "cell_type": "code",
   "execution_count": 1,
   "metadata": {},
   "outputs": [],
   "source": [
    "import pandas as pd\n",
    "from bs4 import BeautifulSoup\n",
    "import requests\n",
    "from csv import writer\n",
    "import re"
   ]
  },
  {
   "cell_type": "code",
   "execution_count": 7,
   "metadata": {},
   "outputs": [],
   "source": [
    "headers = {'User-Agent': 'Mozilla/5.0 (Macintosh; Intel Mac OS X 10_15_7) AppleWebKit/537.36 (KHTML, like Gecko) Chrome/102.0.0.0 Safari/537.36'}\n",
    "\n",
    "url = \"https://www.mcgill.ca/langlitcultures/people\"\n",
    "page = requests.get(url, headers=headers)\n",
    "soup = BeautifulSoup(page.content, \"html.parser\")\n",
    "content = soup.find(\"div\", class_=\"field-items\")\n",
    "content_prof = content.find(\"div\", class_=\"field-item even\")"
   ]
  },
  {
   "cell_type": "code",
   "execution_count": 8,
   "metadata": {},
   "outputs": [],
   "source": [
    "with open(\"/Users/parth/mcgill-news-scraper/professors/arts/languages,_literature_profs.csv\", \"w\", encoding=\"utf-8\") as f:\n",
    "    out = writer(f)\n",
    "    header = [\"Name\", \"Department\", \"Faculty\"]\n",
    "    out.writerow(header)\n",
    "\n",
    "    items = content_prof.find_all(\"p\")\n",
    "    for item in items:\n",
    "        try:\n",
    "            name = item.find('a').text\n",
    "        except:\n",
    "            name = \"\"\n",
    "        \n",
    "        info =[name, \"Department of Languages, Literatures, and Cultures\", \"Faculty of Arts\"]\n",
    "        out.writerow(info)\n",
    "    "
   ]
  }
 ],
 "metadata": {
  "kernelspec": {
   "display_name": "Python 3.9.7 ('base')",
   "language": "python",
   "name": "python3"
  },
  "language_info": {
   "codemirror_mode": {
    "name": "ipython",
    "version": 3
   },
   "file_extension": ".py",
   "mimetype": "text/x-python",
   "name": "python",
   "nbconvert_exporter": "python",
   "pygments_lexer": "ipython3",
   "version": "3.9.7"
  },
  "orig_nbformat": 4,
  "vscode": {
   "interpreter": {
    "hash": "b562613f97b516b6cd6dc22156e9fe410dfb52987a7daa70dad21748949db864"
   }
  }
 },
 "nbformat": 4,
 "nbformat_minor": 2
}
