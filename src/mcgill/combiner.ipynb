{
 "cells": [
  {
   "cell_type": "code",
   "execution_count": 1,
   "metadata": {},
   "outputs": [],
   "source": [
    "import pandas as pd"
   ]
  },
  {
   "cell_type": "code",
   "execution_count": 2,
   "metadata": {},
   "outputs": [
    {
     "data": {
      "text/html": [
       "<div>\n",
       "<style scoped>\n",
       "    .dataframe tbody tr th:only-of-type {\n",
       "        vertical-align: middle;\n",
       "    }\n",
       "\n",
       "    .dataframe tbody tr th {\n",
       "        vertical-align: top;\n",
       "    }\n",
       "\n",
       "    .dataframe thead th {\n",
       "        text-align: right;\n",
       "    }\n",
       "</style>\n",
       "<table border=\"1\" class=\"dataframe\">\n",
       "  <thead>\n",
       "    <tr style=\"text-align: right;\">\n",
       "      <th></th>\n",
       "      <th>Name</th>\n",
       "      <th>Department</th>\n",
       "      <th>Faculty</th>\n",
       "    </tr>\n",
       "  </thead>\n",
       "  <tbody>\n",
       "    <tr>\n",
       "      <th>0</th>\n",
       "      <td>Diana Allan</td>\n",
       "      <td>Department of Anthropology</td>\n",
       "      <td>Faculty of Arts</td>\n",
       "    </tr>\n",
       "    <tr>\n",
       "      <th>1</th>\n",
       "      <td>Alyssa Bader</td>\n",
       "      <td>Department of Anthropology</td>\n",
       "      <td>Faculty of Arts</td>\n",
       "    </tr>\n",
       "    <tr>\n",
       "      <th>2</th>\n",
       "      <td>Samuele Collu</td>\n",
       "      <td>Department of Anthropology</td>\n",
       "      <td>Faculty of Arts</td>\n",
       "    </tr>\n",
       "  </tbody>\n",
       "</table>\n",
       "</div>"
      ],
      "text/plain": [
       "            Name                  Department          Faculty\n",
       "0    Diana Allan  Department of Anthropology  Faculty of Arts\n",
       "1   Alyssa Bader  Department of Anthropology  Faculty of Arts\n",
       "2  Samuele Collu  Department of Anthropology  Faculty of Arts"
      ]
     },
     "execution_count": 2,
     "metadata": {},
     "output_type": "execute_result"
    }
   ],
   "source": [
    "df_anthro = pd.read_csv(\"/Users/parth/mcgill-news-scraper/professors/arts/anthro_profs.csv\")\n",
    "df_anthro.head(3)"
   ]
  },
  {
   "cell_type": "code",
   "execution_count": 3,
   "metadata": {},
   "outputs": [
    {
     "data": {
      "text/html": [
       "<div>\n",
       "<style scoped>\n",
       "    .dataframe tbody tr th:only-of-type {\n",
       "        vertical-align: middle;\n",
       "    }\n",
       "\n",
       "    .dataframe tbody tr th {\n",
       "        vertical-align: top;\n",
       "    }\n",
       "\n",
       "    .dataframe thead th {\n",
       "        text-align: right;\n",
       "    }\n",
       "</style>\n",
       "<table border=\"1\" class=\"dataframe\">\n",
       "  <thead>\n",
       "    <tr style=\"text-align: right;\">\n",
       "      <th></th>\n",
       "      <th>Name</th>\n",
       "      <th>Department</th>\n",
       "      <th>Faculty</th>\n",
       "    </tr>\n",
       "  </thead>\n",
       "  <tbody>\n",
       "    <tr>\n",
       "      <th>0</th>\n",
       "      <td>Darin Barney</td>\n",
       "      <td>Department of Art History &amp; Communication Studies</td>\n",
       "      <td>Faculty of Arts</td>\n",
       "    </tr>\n",
       "    <tr>\n",
       "      <th>1</th>\n",
       "      <td>Gloria Bell</td>\n",
       "      <td>Department of Art History &amp; Communication Studies</td>\n",
       "      <td>Faculty of Arts</td>\n",
       "    </tr>\n",
       "    <tr>\n",
       "      <th>2</th>\n",
       "      <td>Bobby Benedicto</td>\n",
       "      <td>Department of Art History &amp; Communication Studies</td>\n",
       "      <td>Faculty of Arts</td>\n",
       "    </tr>\n",
       "  </tbody>\n",
       "</table>\n",
       "</div>"
      ],
      "text/plain": [
       "              Name                                         Department  \\\n",
       "0     Darin Barney  Department of Art History & Communication Studies   \n",
       "1      Gloria Bell  Department of Art History & Communication Studies   \n",
       "2  Bobby Benedicto  Department of Art History & Communication Studies   \n",
       "\n",
       "           Faculty  \n",
       "0  Faculty of Arts  \n",
       "1  Faculty of Arts  \n",
       "2  Faculty of Arts  "
      ]
     },
     "execution_count": 3,
     "metadata": {},
     "output_type": "execute_result"
    }
   ],
   "source": [
    "df_art_history = pd.read_csv(\"/Users/parth/mcgill-news-scraper/professors/arts/art_history_profs.csv\")\n",
    "df_art_history.head(3)"
   ]
  },
  {
   "cell_type": "code",
   "execution_count": 4,
   "metadata": {},
   "outputs": [
    {
     "data": {
      "text/html": [
       "<div>\n",
       "<style scoped>\n",
       "    .dataframe tbody tr th:only-of-type {\n",
       "        vertical-align: middle;\n",
       "    }\n",
       "\n",
       "    .dataframe tbody tr th {\n",
       "        vertical-align: top;\n",
       "    }\n",
       "\n",
       "    .dataframe thead th {\n",
       "        text-align: right;\n",
       "    }\n",
       "</style>\n",
       "<table border=\"1\" class=\"dataframe\">\n",
       "  <thead>\n",
       "    <tr style=\"text-align: right;\">\n",
       "      <th></th>\n",
       "      <th>Name</th>\n",
       "      <th>Department</th>\n",
       "      <th>Faculty</th>\n",
       "    </tr>\n",
       "  </thead>\n",
       "  <tbody>\n",
       "    <tr>\n",
       "      <th>0</th>\n",
       "      <td>Jennie H Chang</td>\n",
       "      <td>Department of East Asian Studies</td>\n",
       "      <td>Faculty of Arts</td>\n",
       "    </tr>\n",
       "    <tr>\n",
       "      <th>1</th>\n",
       "      <td>Kimberly Chung</td>\n",
       "      <td>Department of East Asian Studies</td>\n",
       "      <td>Faculty of Arts</td>\n",
       "    </tr>\n",
       "    <tr>\n",
       "      <th>2</th>\n",
       "      <td>Xinyu Dong</td>\n",
       "      <td>Department of East Asian Studies</td>\n",
       "      <td>Faculty of Arts</td>\n",
       "    </tr>\n",
       "  </tbody>\n",
       "</table>\n",
       "</div>"
      ],
      "text/plain": [
       "             Name                        Department          Faculty\n",
       "0  Jennie H Chang  Department of East Asian Studies  Faculty of Arts\n",
       "1  Kimberly Chung  Department of East Asian Studies  Faculty of Arts\n",
       "2      Xinyu Dong  Department of East Asian Studies  Faculty of Arts"
      ]
     },
     "execution_count": 4,
     "metadata": {},
     "output_type": "execute_result"
    }
   ],
   "source": [
    "df_east_asian = pd.read_csv(\"/Users/parth/mcgill-news-scraper/professors/arts/east_asian_history_profs.csv\")\n",
    "df_east_asian.head(3)"
   ]
  },
  {
   "cell_type": "code",
   "execution_count": 5,
   "metadata": {},
   "outputs": [
    {
     "data": {
      "text/html": [
       "<div>\n",
       "<style scoped>\n",
       "    .dataframe tbody tr th:only-of-type {\n",
       "        vertical-align: middle;\n",
       "    }\n",
       "\n",
       "    .dataframe tbody tr th {\n",
       "        vertical-align: top;\n",
       "    }\n",
       "\n",
       "    .dataframe thead th {\n",
       "        text-align: right;\n",
       "    }\n",
       "</style>\n",
       "<table border=\"1\" class=\"dataframe\">\n",
       "  <thead>\n",
       "    <tr style=\"text-align: right;\">\n",
       "      <th></th>\n",
       "      <th>Name</th>\n",
       "      <th>Department</th>\n",
       "      <th>Faculty</th>\n",
       "    </tr>\n",
       "  </thead>\n",
       "  <tbody>\n",
       "    <tr>\n",
       "      <th>0</th>\n",
       "      <td>Nicolas Ajzenman</td>\n",
       "      <td>Department of Economics</td>\n",
       "      <td>Faculty of Arts</td>\n",
       "    </tr>\n",
       "    <tr>\n",
       "      <th>1</th>\n",
       "      <td>Francisco Alvarez-Cuadrado</td>\n",
       "      <td>Department of Economics</td>\n",
       "      <td>Faculty of Arts</td>\n",
       "    </tr>\n",
       "    <tr>\n",
       "      <th>2</th>\n",
       "      <td>Francesco Amodio</td>\n",
       "      <td>Department of Economics</td>\n",
       "      <td>Faculty of Arts</td>\n",
       "    </tr>\n",
       "  </tbody>\n",
       "</table>\n",
       "</div>"
      ],
      "text/plain": [
       "                         Name               Department          Faculty\n",
       "0            Nicolas Ajzenman  Department of Economics  Faculty of Arts\n",
       "1  Francisco Alvarez-Cuadrado  Department of Economics  Faculty of Arts\n",
       "2            Francesco Amodio  Department of Economics  Faculty of Arts"
      ]
     },
     "execution_count": 5,
     "metadata": {},
     "output_type": "execute_result"
    }
   ],
   "source": [
    "df_econ = pd.read_csv(\"/Users/parth/mcgill-news-scraper/professors/arts/economics_profs.csv\")\n",
    "df_econ.head(3)"
   ]
  },
  {
   "cell_type": "code",
   "execution_count": 6,
   "metadata": {},
   "outputs": [
    {
     "data": {
      "text/html": [
       "<div>\n",
       "<style scoped>\n",
       "    .dataframe tbody tr th:only-of-type {\n",
       "        vertical-align: middle;\n",
       "    }\n",
       "\n",
       "    .dataframe tbody tr th {\n",
       "        vertical-align: top;\n",
       "    }\n",
       "\n",
       "    .dataframe thead th {\n",
       "        text-align: right;\n",
       "    }\n",
       "</style>\n",
       "<table border=\"1\" class=\"dataframe\">\n",
       "  <thead>\n",
       "    <tr style=\"text-align: right;\">\n",
       "      <th></th>\n",
       "      <th>Name</th>\n",
       "      <th>Department</th>\n",
       "      <th>Faculty</th>\n",
       "    </tr>\n",
       "  </thead>\n",
       "  <tbody>\n",
       "    <tr>\n",
       "      <th>0</th>\n",
       "      <td>Sandeep Banerjee</td>\n",
       "      <td>Department of English</td>\n",
       "      <td>Faculty of Arts</td>\n",
       "    </tr>\n",
       "    <tr>\n",
       "      <th>1</th>\n",
       "      <td>Kenneth Borris</td>\n",
       "      <td>Department of English</td>\n",
       "      <td>Faculty of Arts</td>\n",
       "    </tr>\n",
       "    <tr>\n",
       "      <th>2</th>\n",
       "      <td>Catherine Bradley</td>\n",
       "      <td>Department of English</td>\n",
       "      <td>Faculty of Arts</td>\n",
       "    </tr>\n",
       "  </tbody>\n",
       "</table>\n",
       "</div>"
      ],
      "text/plain": [
       "                Name             Department          Faculty\n",
       "0   Sandeep Banerjee  Department of English  Faculty of Arts\n",
       "1     Kenneth Borris  Department of English  Faculty of Arts\n",
       "2  Catherine Bradley  Department of English  Faculty of Arts"
      ]
     },
     "execution_count": 6,
     "metadata": {},
     "output_type": "execute_result"
    }
   ],
   "source": [
    "df_english = pd.read_csv(\"/Users/parth/mcgill-news-scraper/professors/arts/english_profs.csv\")\n",
    "df_english.head(3)"
   ]
  },
  {
   "cell_type": "code",
   "execution_count": 7,
   "metadata": {},
   "outputs": [
    {
     "data": {
      "text/html": [
       "<div>\n",
       "<style scoped>\n",
       "    .dataframe tbody tr th:only-of-type {\n",
       "        vertical-align: middle;\n",
       "    }\n",
       "\n",
       "    .dataframe tbody tr th {\n",
       "        vertical-align: top;\n",
       "    }\n",
       "\n",
       "    .dataframe thead th {\n",
       "        text-align: right;\n",
       "    }\n",
       "</style>\n",
       "<table border=\"1\" class=\"dataframe\">\n",
       "  <thead>\n",
       "    <tr style=\"text-align: right;\">\n",
       "      <th></th>\n",
       "      <th>Name</th>\n",
       "      <th>Department</th>\n",
       "      <th>Faculty</th>\n",
       "    </tr>\n",
       "  </thead>\n",
       "  <tbody>\n",
       "    <tr>\n",
       "      <th>0</th>\n",
       "      <td>Laura Bourrel</td>\n",
       "      <td>French Language Centre</td>\n",
       "      <td>Faculty of Arts</td>\n",
       "    </tr>\n",
       "    <tr>\n",
       "      <th>1</th>\n",
       "      <td>Samantha Damay</td>\n",
       "      <td>French Language Centre</td>\n",
       "      <td>Faculty of Arts</td>\n",
       "    </tr>\n",
       "    <tr>\n",
       "      <th>2</th>\n",
       "      <td>Natallia Liakina</td>\n",
       "      <td>French Language Centre</td>\n",
       "      <td>Faculty of Arts</td>\n",
       "    </tr>\n",
       "  </tbody>\n",
       "</table>\n",
       "</div>"
      ],
      "text/plain": [
       "               Name              Department          Faculty\n",
       "0     Laura Bourrel  French Language Centre  Faculty of Arts\n",
       "1    Samantha Damay  French Language Centre  Faculty of Arts\n",
       "2  Natallia Liakina  French Language Centre  Faculty of Arts"
      ]
     },
     "execution_count": 7,
     "metadata": {},
     "output_type": "execute_result"
    }
   ],
   "source": [
    "df_french_l = pd.read_csv(\"/Users/parth/mcgill-news-scraper/professors/arts/french_language_centre_profs.csv\")\n",
    "df_french_l.head(3)"
   ]
  },
  {
   "cell_type": "code",
   "execution_count": 8,
   "metadata": {},
   "outputs": [
    {
     "data": {
      "text/html": [
       "<div>\n",
       "<style scoped>\n",
       "    .dataframe tbody tr th:only-of-type {\n",
       "        vertical-align: middle;\n",
       "    }\n",
       "\n",
       "    .dataframe tbody tr th {\n",
       "        vertical-align: top;\n",
       "    }\n",
       "\n",
       "    .dataframe thead th {\n",
       "        text-align: right;\n",
       "    }\n",
       "</style>\n",
       "<table border=\"1\" class=\"dataframe\">\n",
       "  <thead>\n",
       "    <tr style=\"text-align: right;\">\n",
       "      <th></th>\n",
       "      <th>Name</th>\n",
       "      <th>Department</th>\n",
       "      <th>Faculty</th>\n",
       "    </tr>\n",
       "  </thead>\n",
       "  <tbody>\n",
       "    <tr>\n",
       "      <th>0</th>\n",
       "      <td>Isabelle Arseneau</td>\n",
       "      <td>Department of French Language Literature</td>\n",
       "      <td>Faculty of Arts</td>\n",
       "    </tr>\n",
       "    <tr>\n",
       "      <th>1</th>\n",
       "      <td>Arnaud Bernadet</td>\n",
       "      <td>Department of French Language Literature</td>\n",
       "      <td>Faculty of Arts</td>\n",
       "    </tr>\n",
       "    <tr>\n",
       "      <th>2</th>\n",
       "      <td>Michael Biron</td>\n",
       "      <td>Department of French Language Literature</td>\n",
       "      <td>Faculty of Arts</td>\n",
       "    </tr>\n",
       "  </tbody>\n",
       "</table>\n",
       "</div>"
      ],
      "text/plain": [
       "                Name                                Department  \\\n",
       "0  Isabelle Arseneau  Department of French Language Literature   \n",
       "1    Arnaud Bernadet  Department of French Language Literature   \n",
       "2      Michael Biron  Department of French Language Literature   \n",
       "\n",
       "           Faculty  \n",
       "0  Faculty of Arts  \n",
       "1  Faculty of Arts  \n",
       "2  Faculty of Arts  "
      ]
     },
     "execution_count": 8,
     "metadata": {},
     "output_type": "execute_result"
    }
   ],
   "source": [
    "df_french = pd.read_csv(\"/Users/parth/mcgill-news-scraper/professors/arts/french_language_literatur.csv\")\n",
    "df_french.head(3)"
   ]
  },
  {
   "cell_type": "code",
   "execution_count": 10,
   "metadata": {},
   "outputs": [
    {
     "data": {
      "text/html": [
       "<div>\n",
       "<style scoped>\n",
       "    .dataframe tbody tr th:only-of-type {\n",
       "        vertical-align: middle;\n",
       "    }\n",
       "\n",
       "    .dataframe tbody tr th {\n",
       "        vertical-align: top;\n",
       "    }\n",
       "\n",
       "    .dataframe thead th {\n",
       "        text-align: right;\n",
       "    }\n",
       "</style>\n",
       "<table border=\"1\" class=\"dataframe\">\n",
       "  <thead>\n",
       "    <tr style=\"text-align: right;\">\n",
       "      <th></th>\n",
       "      <th>Name</th>\n",
       "      <th>Department</th>\n",
       "      <th>Faculty</th>\n",
       "    </tr>\n",
       "  </thead>\n",
       "  <tbody>\n",
       "    <tr>\n",
       "      <th>0</th>\n",
       "      <td>Malek Abisaab</td>\n",
       "      <td>Department of History and Classical Studies</td>\n",
       "      <td>Faculty of Arts</td>\n",
       "    </tr>\n",
       "    <tr>\n",
       "      <th>1</th>\n",
       "      <td>Wendell Nii Laryea Adjetey</td>\n",
       "      <td>Department of History and Classical Studies</td>\n",
       "      <td>Faculty of Arts</td>\n",
       "    </tr>\n",
       "    <tr>\n",
       "      <th>2</th>\n",
       "      <td>Anastassios Anastassiadis</td>\n",
       "      <td>Department of History and Classical Studies</td>\n",
       "      <td>Faculty of Arts</td>\n",
       "    </tr>\n",
       "  </tbody>\n",
       "</table>\n",
       "</div>"
      ],
      "text/plain": [
       "                         Name                                   Department  \\\n",
       "0               Malek Abisaab  Department of History and Classical Studies   \n",
       "1  Wendell Nii Laryea Adjetey  Department of History and Classical Studies   \n",
       "2   Anastassios Anastassiadis  Department of History and Classical Studies   \n",
       "\n",
       "           Faculty  \n",
       "0  Faculty of Arts  \n",
       "1  Faculty of Arts  \n",
       "2  Faculty of Arts  "
      ]
     },
     "execution_count": 10,
     "metadata": {},
     "output_type": "execute_result"
    }
   ],
   "source": [
    "df_history = pd.read_csv(\"/Users/parth/mcgill-news-scraper/professors/arts/history_and_classical_studies_profs.csv\")\n",
    "df_history.head(3)\n"
   ]
  },
  {
   "cell_type": "code",
   "execution_count": 11,
   "metadata": {},
   "outputs": [
    {
     "data": {
      "text/html": [
       "<div>\n",
       "<style scoped>\n",
       "    .dataframe tbody tr th:only-of-type {\n",
       "        vertical-align: middle;\n",
       "    }\n",
       "\n",
       "    .dataframe tbody tr th {\n",
       "        vertical-align: top;\n",
       "    }\n",
       "\n",
       "    .dataframe thead th {\n",
       "        text-align: right;\n",
       "    }\n",
       "</style>\n",
       "<table border=\"1\" class=\"dataframe\">\n",
       "  <thead>\n",
       "    <tr style=\"text-align: right;\">\n",
       "      <th></th>\n",
       "      <th>Name</th>\n",
       "      <th>Department</th>\n",
       "      <th>Faculty</th>\n",
       "    </tr>\n",
       "  </thead>\n",
       "  <tbody>\n",
       "    <tr>\n",
       "      <th>0</th>\n",
       "      <td>David Aberbach</td>\n",
       "      <td>Department of Jewish Studies</td>\n",
       "      <td>Faculty of Arts</td>\n",
       "    </tr>\n",
       "    <tr>\n",
       "      <th>1</th>\n",
       "      <td>Garry Beitel</td>\n",
       "      <td>Department of Jewish Studies</td>\n",
       "      <td>Faculty of Arts</td>\n",
       "    </tr>\n",
       "    <tr>\n",
       "      <th>2</th>\n",
       "      <td>Eric Caplan</td>\n",
       "      <td>Department of Jewish Studies</td>\n",
       "      <td>Faculty of Arts</td>\n",
       "    </tr>\n",
       "  </tbody>\n",
       "</table>\n",
       "</div>"
      ],
      "text/plain": [
       "             Name                    Department           Faculty\n",
       "0  David Aberbach  Department of Jewish Studies   Faculty of Arts\n",
       "1    Garry Beitel  Department of Jewish Studies  Faculty of Arts \n",
       "2     Eric Caplan  Department of Jewish Studies   Faculty of Arts"
      ]
     },
     "execution_count": 11,
     "metadata": {},
     "output_type": "execute_result"
    }
   ],
   "source": [
    "df_jewish = pd.read_csv(\"/Users/parth/mcgill-news-scraper/professors/arts/jewish_studies_profs.csv\")\n",
    "df_jewish.head(3)"
   ]
  },
  {
   "cell_type": "code",
   "execution_count": 12,
   "metadata": {},
   "outputs": [
    {
     "data": {
      "text/html": [
       "<div>\n",
       "<style scoped>\n",
       "    .dataframe tbody tr th:only-of-type {\n",
       "        vertical-align: middle;\n",
       "    }\n",
       "\n",
       "    .dataframe tbody tr th {\n",
       "        vertical-align: top;\n",
       "    }\n",
       "\n",
       "    .dataframe thead th {\n",
       "        text-align: right;\n",
       "    }\n",
       "</style>\n",
       "<table border=\"1\" class=\"dataframe\">\n",
       "  <thead>\n",
       "    <tr style=\"text-align: right;\">\n",
       "      <th></th>\n",
       "      <th>Name</th>\n",
       "      <th>Department</th>\n",
       "      <th>Faculty</th>\n",
       "    </tr>\n",
       "  </thead>\n",
       "  <tbody>\n",
       "    <tr>\n",
       "      <th>0</th>\n",
       "      <td>Karin Bauer</td>\n",
       "      <td>Department of Languages, Literatures, and Cult...</td>\n",
       "      <td>Faculty of Arts</td>\n",
       "    </tr>\n",
       "    <tr>\n",
       "      <th>1</th>\n",
       "      <td>Laura A Beraha</td>\n",
       "      <td>Department of Languages, Literatures, and Cult...</td>\n",
       "      <td>Faculty of Arts</td>\n",
       "    </tr>\n",
       "    <tr>\n",
       "      <th>2</th>\n",
       "      <td>Eugenio Bolongaro</td>\n",
       "      <td>Department of Languages, Literatures, and Cult...</td>\n",
       "      <td>Faculty of Arts</td>\n",
       "    </tr>\n",
       "  </tbody>\n",
       "</table>\n",
       "</div>"
      ],
      "text/plain": [
       "                Name                                         Department  \\\n",
       "0        Karin Bauer  Department of Languages, Literatures, and Cult...   \n",
       "1     Laura A Beraha  Department of Languages, Literatures, and Cult...   \n",
       "2  Eugenio Bolongaro  Department of Languages, Literatures, and Cult...   \n",
       "\n",
       "           Faculty  \n",
       "0  Faculty of Arts  \n",
       "1  Faculty of Arts  \n",
       "2  Faculty of Arts  "
      ]
     },
     "execution_count": 12,
     "metadata": {},
     "output_type": "execute_result"
    }
   ],
   "source": [
    "df_languages = pd.read_csv(\"/Users/parth/mcgill-news-scraper/professors/arts/languages,_literature_profs.csv\")\n",
    "df_languages.head(3)"
   ]
  },
  {
   "cell_type": "code",
   "execution_count": 13,
   "metadata": {},
   "outputs": [
    {
     "data": {
      "text/html": [
       "<div>\n",
       "<style scoped>\n",
       "    .dataframe tbody tr th:only-of-type {\n",
       "        vertical-align: middle;\n",
       "    }\n",
       "\n",
       "    .dataframe tbody tr th {\n",
       "        vertical-align: top;\n",
       "    }\n",
       "\n",
       "    .dataframe thead th {\n",
       "        text-align: right;\n",
       "    }\n",
       "</style>\n",
       "<table border=\"1\" class=\"dataframe\">\n",
       "  <thead>\n",
       "    <tr style=\"text-align: right;\">\n",
       "      <th></th>\n",
       "      <th>Name</th>\n",
       "      <th>Department</th>\n",
       "      <th>Faculty</th>\n",
       "    </tr>\n",
       "  </thead>\n",
       "  <tbody>\n",
       "    <tr>\n",
       "      <th>0</th>\n",
       "      <td>Alia Al-Saji</td>\n",
       "      <td>Department of Philosophy</td>\n",
       "      <td>Faculty of Arts</td>\n",
       "    </tr>\n",
       "    <tr>\n",
       "      <th>1</th>\n",
       "      <td>Michael Blome-Tillmann</td>\n",
       "      <td>Department of Philosophy</td>\n",
       "      <td>Faculty of Arts</td>\n",
       "    </tr>\n",
       "    <tr>\n",
       "      <th>2</th>\n",
       "      <td>Philip Buckley</td>\n",
       "      <td>Department of Philosophy</td>\n",
       "      <td>Faculty of Arts</td>\n",
       "    </tr>\n",
       "  </tbody>\n",
       "</table>\n",
       "</div>"
      ],
      "text/plain": [
       "                     Name                Department          Faculty\n",
       "0            Alia Al-Saji  Department of Philosophy  Faculty of Arts\n",
       "1  Michael Blome-Tillmann  Department of Philosophy  Faculty of Arts\n",
       "2          Philip Buckley  Department of Philosophy  Faculty of Arts"
      ]
     },
     "execution_count": 13,
     "metadata": {},
     "output_type": "execute_result"
    }
   ],
   "source": [
    "df_phil = pd.read_csv(\"/Users/parth/mcgill-news-scraper/professors/arts/philosophy_profs.csv\")\n",
    "df_phil.head(3)\n"
   ]
  },
  {
   "cell_type": "code",
   "execution_count": 14,
   "metadata": {},
   "outputs": [
    {
     "data": {
      "text/html": [
       "<div>\n",
       "<style scoped>\n",
       "    .dataframe tbody tr th:only-of-type {\n",
       "        vertical-align: middle;\n",
       "    }\n",
       "\n",
       "    .dataframe tbody tr th {\n",
       "        vertical-align: top;\n",
       "    }\n",
       "\n",
       "    .dataframe thead th {\n",
       "        text-align: right;\n",
       "    }\n",
       "</style>\n",
       "<table border=\"1\" class=\"dataframe\">\n",
       "  <thead>\n",
       "    <tr style=\"text-align: right;\">\n",
       "      <th></th>\n",
       "      <th>Name</th>\n",
       "      <th>Department</th>\n",
       "      <th>Faculty</th>\n",
       "    </tr>\n",
       "  </thead>\n",
       "  <tbody>\n",
       "    <tr>\n",
       "      <th>0</th>\n",
       "      <td>Luis Alonso-Ovalle</td>\n",
       "      <td>Department of Linguistics</td>\n",
       "      <td>Faculty of Arts</td>\n",
       "    </tr>\n",
       "    <tr>\n",
       "      <th>1</th>\n",
       "      <td>Charles Boberg</td>\n",
       "      <td>Department of Linguistics</td>\n",
       "      <td>Faculty of Arts</td>\n",
       "    </tr>\n",
       "    <tr>\n",
       "      <th>2</th>\n",
       "      <td>Meghan Clayards</td>\n",
       "      <td>Department of Linguistics</td>\n",
       "      <td>Faculty of Arts</td>\n",
       "    </tr>\n",
       "  </tbody>\n",
       "</table>\n",
       "</div>"
      ],
      "text/plain": [
       "                 Name                 Department          Faculty\n",
       "0  Luis Alonso-Ovalle  Department of Linguistics  Faculty of Arts\n",
       "1      Charles Boberg  Department of Linguistics  Faculty of Arts\n",
       "2     Meghan Clayards  Department of Linguistics  Faculty of Arts"
      ]
     },
     "execution_count": 14,
     "metadata": {},
     "output_type": "execute_result"
    }
   ],
   "source": [
    "df_ling = pd.read_csv(\"/Users/parth/mcgill-news-scraper/professors/arts/linguistics_profs.csv\")\n",
    "df_ling.head(3)"
   ]
  },
  {
   "cell_type": "code",
   "execution_count": 15,
   "metadata": {},
   "outputs": [
    {
     "data": {
      "text/html": [
       "<div>\n",
       "<style scoped>\n",
       "    .dataframe tbody tr th:only-of-type {\n",
       "        vertical-align: middle;\n",
       "    }\n",
       "\n",
       "    .dataframe tbody tr th {\n",
       "        vertical-align: top;\n",
       "    }\n",
       "\n",
       "    .dataframe thead th {\n",
       "        text-align: right;\n",
       "    }\n",
       "</style>\n",
       "<table border=\"1\" class=\"dataframe\">\n",
       "  <thead>\n",
       "    <tr style=\"text-align: right;\">\n",
       "      <th></th>\n",
       "      <th>Name</th>\n",
       "      <th>Department</th>\n",
       "      <th>Faculty</th>\n",
       "    </tr>\n",
       "  </thead>\n",
       "  <tbody>\n",
       "    <tr>\n",
       "      <th>0</th>\n",
       "      <td>Arash Abizadeh</td>\n",
       "      <td>Department of Political Science</td>\n",
       "      <td>Faculty of Arts</td>\n",
       "    </tr>\n",
       "    <tr>\n",
       "      <th>1</th>\n",
       "      <td>Yann Allard-Tremblay</td>\n",
       "      <td>Department of Political Science</td>\n",
       "      <td>Faculty of Arts</td>\n",
       "    </tr>\n",
       "    <tr>\n",
       "      <th>2</th>\n",
       "      <td>Leonardo Baccini</td>\n",
       "      <td>Department of Political Science</td>\n",
       "      <td>Faculty of Arts</td>\n",
       "    </tr>\n",
       "  </tbody>\n",
       "</table>\n",
       "</div>"
      ],
      "text/plain": [
       "                   Name                       Department          Faculty\n",
       "0        Arash Abizadeh  Department of Political Science  Faculty of Arts\n",
       "1  Yann Allard-Tremblay  Department of Political Science  Faculty of Arts\n",
       "2      Leonardo Baccini  Department of Political Science  Faculty of Arts"
      ]
     },
     "execution_count": 15,
     "metadata": {},
     "output_type": "execute_result"
    }
   ],
   "source": [
    "df_poli = pd.read_csv(\"/Users/parth/mcgill-news-scraper/professors/arts/poli_sci_profs.csv\")\n",
    "df_poli.head(3)"
   ]
  },
  {
   "cell_type": "code",
   "execution_count": 16,
   "metadata": {},
   "outputs": [
    {
     "data": {
      "text/html": [
       "<div>\n",
       "<style scoped>\n",
       "    .dataframe tbody tr th:only-of-type {\n",
       "        vertical-align: middle;\n",
       "    }\n",
       "\n",
       "    .dataframe tbody tr th {\n",
       "        vertical-align: top;\n",
       "    }\n",
       "\n",
       "    .dataframe thead th {\n",
       "        text-align: right;\n",
       "    }\n",
       "</style>\n",
       "<table border=\"1\" class=\"dataframe\">\n",
       "  <thead>\n",
       "    <tr style=\"text-align: right;\">\n",
       "      <th></th>\n",
       "      <th>Name</th>\n",
       "      <th>Department</th>\n",
       "      <th>Faculty</th>\n",
       "    </tr>\n",
       "  </thead>\n",
       "  <tbody>\n",
       "    <tr>\n",
       "      <th>0</th>\n",
       "      <td>Sarah Brauner-Otto</td>\n",
       "      <td>Department of Sociology</td>\n",
       "      <td>Faculty of Arts</td>\n",
       "    </tr>\n",
       "    <tr>\n",
       "      <th>1</th>\n",
       "      <td>Jason Carmichael</td>\n",
       "      <td>Department of Sociology</td>\n",
       "      <td>Faculty of Arts</td>\n",
       "    </tr>\n",
       "    <tr>\n",
       "      <th>2</th>\n",
       "      <td>Shelley Clark</td>\n",
       "      <td>Department of Sociology</td>\n",
       "      <td>Faculty of Arts</td>\n",
       "    </tr>\n",
       "  </tbody>\n",
       "</table>\n",
       "</div>"
      ],
      "text/plain": [
       "                 Name               Department          Faculty\n",
       "0  Sarah Brauner-Otto  Department of Sociology  Faculty of Arts\n",
       "1    Jason Carmichael  Department of Sociology  Faculty of Arts\n",
       "2       Shelley Clark  Department of Sociology  Faculty of Arts"
      ]
     },
     "execution_count": 16,
     "metadata": {},
     "output_type": "execute_result"
    }
   ],
   "source": [
    "df_socio = pd.read_csv(\"/Users/parth/mcgill-news-scraper/professors/arts/socio_profs.csv\")\n",
    "df_socio.head(3)"
   ]
  },
  {
   "cell_type": "code",
   "execution_count": 17,
   "metadata": {},
   "outputs": [
    {
     "data": {
      "text/plain": [
       "<bound method NDFrame.head of                  Name                  Department          Faculty\n",
       "0         Diana Allan  Department of Anthropology  Faculty of Arts\n",
       "1        Alyssa Bader  Department of Anthropology  Faculty of Arts\n",
       "2       Samuele Collu  Department of Anthropology  Faculty of Arts\n",
       "3      Nicole Couture  Department of Anthropology  Faculty of Arts\n",
       "4         John Galaty  Department of Anthropology  Faculty of Arts\n",
       "..                ...                         ...              ...\n",
       "14       Thomas Soehl     Department of Sociology  Faculty of Arts\n",
       "15  Axel van den Berg     Department of Sociology  Faculty of Arts\n",
       "16          Zoua Vang     Department of Sociology  Faculty of Arts\n",
       "17      Elaine Weiner     Department of Sociology  Faculty of Arts\n",
       "18    Morton Weinfeld     Department of Sociology  Faculty of Arts\n",
       "\n",
       "[326 rows x 3 columns]>"
      ]
     },
     "execution_count": 17,
     "metadata": {},
     "output_type": "execute_result"
    }
   ],
   "source": [
    "frames = [df_anthro, df_art_history, df_east_asian,\n",
    "df_econ, df_english, df_french, df_french_l, df_history,\n",
    "df_jewish, df_languages, df_ling, df_phil, df_poli,\n",
    "df_socio]\n",
    "total = pd.concat(frames)\n",
    "total.head"
   ]
  },
  {
   "cell_type": "code",
   "execution_count": 18,
   "metadata": {},
   "outputs": [],
   "source": [
    "total.to_csv(\"/Users/parth/mcgill-news-scraper/professors/arts/all_profs.csv\",index=False)"
   ]
  },
  {
   "cell_type": "code",
   "execution_count": 19,
   "metadata": {},
   "outputs": [
    {
     "data": {
      "text/plain": [
       "<bound method NDFrame.head of                     Name                                         Department  \\\n",
       "0        Armando Bertone  Department of Educational & Counselling Psycho...   \n",
       "1         Alain Breuleux  Department of Educational & Counselling Psycho...   \n",
       "2           Jacob Burack  Department of Educational & Counselling Psycho...   \n",
       "3     Jeffrey Derevensky  Department of Educational & Counselling Psycho...   \n",
       "4         Martin Drapeau  Department of Educational & Counselling Psycho...   \n",
       "..                   ...                                                ...   \n",
       "34  Teresa Strong-Wilson      Department of Integrated Studies in Education   \n",
       "35         Emmanuel Tabi      Department of Integrated Studies in Education   \n",
       "36            Boyd White      Department of Integrated Studies in Education   \n",
       "37        Elizabeth Wood      Department of Integrated Studies in Education   \n",
       "38       Paul Zanazanian      Department of Integrated Studies in Education   \n",
       "\n",
       "                 Faculty  \n",
       "0   Faculty of Education  \n",
       "1   Faculty of Education  \n",
       "2   Faculty of Education  \n",
       "3   Faculty of Education  \n",
       "4   Faculty of Education  \n",
       "..                   ...  \n",
       "34  Faculty of Education  \n",
       "35  Faculty of Education  \n",
       "36  Faculty of Education  \n",
       "37  Faculty of Education  \n",
       "38  Faculty of Education  \n",
       "\n",
       "[90 rows x 3 columns]>"
      ]
     },
     "execution_count": 19,
     "metadata": {},
     "output_type": "execute_result"
    }
   ],
   "source": [
    "df_educational = pd.read_csv(\"/Users/parth/mcgill-news-scraper/professors/education/educational_counselling_profs.csv\")\n",
    "df_integrated = pd.read_csv(\"/Users/parth/mcgill-news-scraper/professors/education/integrated_studies_profs.csv\")\n",
    "df_kin = pd.read_csv(\"/Users/parth/mcgill-news-scraper/professors/education/kinesiology_profs.csv\")\n",
    "ed_total = pd.concat([df_educational, df_kin, df_integrated])\n",
    "ed_total.head"
   ]
  },
  {
   "cell_type": "code",
   "execution_count": 20,
   "metadata": {},
   "outputs": [],
   "source": [
    "ed_total.to_csv(\"/Users/parth/mcgill-news-scraper/professors/education/education_all_profs.csv\", index=False)"
   ]
  },
  {
   "cell_type": "code",
   "execution_count": 21,
   "metadata": {},
   "outputs": [
    {
     "data": {
      "text/plain": [
       "<bound method NDFrame.head of                     Name                                         Department  \\\n",
       "0         Annmarie Adams        The Peter Guo-hua Fu School of Architecture   \n",
       "1          Marco Amabili               Department of Mechanical Engineering   \n",
       "2          Jorge Angeles               Department of Mechanical Engineering   \n",
       "3              Tal Arbel  Department of Electrical and Computer Engineering   \n",
       "4   Madhav Govind Badami                           School of Urban Planning   \n",
       "..                   ...                                                ...   \n",
       "34  Teresa Strong-Wilson      Department of Integrated Studies in Education   \n",
       "35         Emmanuel Tabi      Department of Integrated Studies in Education   \n",
       "36            Boyd White      Department of Integrated Studies in Education   \n",
       "37        Elizabeth Wood      Department of Integrated Studies in Education   \n",
       "38       Paul Zanazanian      Department of Integrated Studies in Education   \n",
       "\n",
       "                   Faculty  \n",
       "0   Faculty of Engineering  \n",
       "1   Faculty of Engineering  \n",
       "2   Faculty of Engineering  \n",
       "3   Faculty of Engineering  \n",
       "4   Faculty of Engineering  \n",
       "..                     ...  \n",
       "34    Faculty of Education  \n",
       "35    Faculty of Education  \n",
       "36    Faculty of Education  \n",
       "37    Faculty of Education  \n",
       "38    Faculty of Education  \n",
       "\n",
       "[808 rows x 3 columns]>"
      ]
     },
     "execution_count": 21,
     "metadata": {},
     "output_type": "execute_result"
    }
   ],
   "source": [
    "df_res = pd.read_csv(\"/Users/parth/mcgill-news-scraper/professors/res.csv\")\n",
    "master_total = pd.concat([df_res, total, ed_total])\n",
    "master_total.head"
   ]
  },
  {
   "cell_type": "code",
   "execution_count": null,
   "metadata": {},
   "outputs": [],
   "source": [
    "master_total.to_csv(\"/Users/parth/mcgill-news-scraper/professors/res.csv\", index=False)"
   ]
  }
 ],
 "metadata": {
  "kernelspec": {
   "display_name": "Python 3.9.7 ('base')",
   "language": "python",
   "name": "python3"
  },
  "language_info": {
   "codemirror_mode": {
    "name": "ipython",
    "version": 3
   },
   "file_extension": ".py",
   "mimetype": "text/x-python",
   "name": "python",
   "nbconvert_exporter": "python",
   "pygments_lexer": "ipython3",
   "version": "3.9.7"
  },
  "orig_nbformat": 4,
  "vscode": {
   "interpreter": {
    "hash": "b562613f97b516b6cd6dc22156e9fe410dfb52987a7daa70dad21748949db864"
   }
  }
 },
 "nbformat": 4,
 "nbformat_minor": 2
}
